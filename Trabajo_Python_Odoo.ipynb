{
 "cells": [
  {
   "cell_type": "code",
   "execution_count": null,
   "metadata": {
    "collapsed": true
   },
   "outputs": [],
   "source": [
    "import erppeek"
   ]
  },
  {
   "cell_type": "markdown",
   "metadata": {},
   "source": [
    "La documentación necesaria para poder superar este ejercicio se encuentra en la documentación de [ERPpeek](http://erppeek.readthedocs.org/en/latest/tutorial.html)\n",
    "\n",
    "\n",
    "\n",
    "### Tarea 1 - Conexión\n",
    "\n",
    "Demuestra que sabes conectarte a una instancia de Odoo y listar todas sus bases de datos. "
   ]
  },
  {
   "cell_type": "code",
   "execution_count": 3,
   "metadata": {
    "collapsed": false,
    "scrolled": true
   },
   "outputs": [
    {
     "name": "stdout",
     "output_type": "stream",
     "text": [
      "Base de datos: 'desarrollo'\n",
      "Base de datos: 'sandbox'\n"
     ]
    }
   ],
   "source": [
    "import erppeek\n",
    "from __future__ import print_function\n",
    "SERVER = 'http://localhost:8069'\n",
    "client = erppeek.Client(server=SERVER)\n",
    "\n",
    "for database in client.db.list():\n",
    "    print('Base de datos: %r' % (database,))"
   ]
  },
  {
   "cell_type": "markdown",
   "metadata": {},
   "source": [
    "### Tarea 2 - Volcado de datos\n",
    "\n",
    "Demuestra que puedes imprimir el `id` y el nombre de todos los usuarios (son registros del modelo `res.users`)."
   ]
  },
  {
   "cell_type": "code",
   "execution_count": 25,
   "metadata": {
    "collapsed": false
   },
   "outputs": [
    {
     "name": "stdout",
     "output_type": "stream",
     "text": [
      "1 Administrator\n",
      "6 Raul Piraces Alastuey\n",
      "7 Luis Jesus Pellicer\n",
      "8 Howard Harrison\n",
      "10 Michelle Hernandez\n",
      "11 Steve Carter\n",
      "13 Andrea Hudson\n"
     ]
    }
   ],
   "source": [
    "import erppeek\n",
    "from __future__ import print_function\n",
    "\n",
    "SERVER = 'http://localhost:8069'\n",
    "DATABASE = 'desarrollo'\n",
    "USERNAME = 'companyfirebird@gmail.com'\n",
    "PASSWORD = 'platano-1'\n",
    "\n",
    "client = erppeek.Client(SERVER, DATABASE, USERNAME, PASSWORD)\n",
    "\n",
    "proxy = client.model('res.users')\n",
    "users = proxy.browse([])\n",
    "\n",
    "for user in users:\n",
    "    a = \"{user.id} {user.name}\".format(user=user)\n",
    "    print(a)\n"
   ]
  },
  {
   "cell_type": "markdown",
   "metadata": {},
   "source": [
    "###Tarea 3 - Crear y configurar una base de datos\n",
    "Demuestra que sabes crear una base de datos, listar todos los módulos instalados por defecto, y si no está presente un módulo determinado instalarlo."
   ]
  },
  {
   "cell_type": "code",
   "execution_count": 28,
   "metadata": {
    "collapsed": false
   },
   "outputs": [
    {
     "name": "stdout",
     "output_type": "stream",
     "text": [
      "La BD no existe y se va a crear...\n",
      "Base de datos creada\n",
      "Lista de modulos instalados:\n",
      "im_chat\n",
      "auth_crypt\n",
      "base\n",
      "base_import\n",
      "bus\n",
      "im_odoo_support\n",
      "report\n",
      "web\n",
      "web_calendar\n",
      "web_diagram\n",
      "web_gantt\n",
      "web_graph\n",
      "web_kanban\n",
      "web_kanban_gauge\n",
      "web_tests\n",
      "web_view_editor\n",
      "Comprobando modulo CRM...\n",
      "1 module(s) selected\n",
      "14 module(s) to process:\n",
      "  to install\tcrm\n",
      "  to install\tmail\n",
      "  to install\tauth_signup\n",
      "  to install\tbase_action_rule\n",
      "  to install\tbase_setup\n",
      "  to install\tboard\n",
      "  to install\tcalendar\n",
      "  to install\temail_template\n",
      "  to install\tfetchmail\n",
      "  to install\tportal\n",
      "  to install\tresource\n",
      "  to install\tsales_team\n",
      "  to install\tshare\n",
      "  to install\tweb_kanban_sparkline\n",
      "Modulo CRM instalado.\n"
     ]
    }
   ],
   "source": [
    "import erppeek\n",
    "from __future__ import print_function\n",
    "\n",
    "DATABASE = 'trabajoPython'\n",
    "SERVER = 'http://localhost:8069'\n",
    "ADMIN_PASSWORD = 'admin'\n",
    "\n",
    "client = erppeek.Client(server=SERVER)\n",
    "\n",
    "if not DATABASE in client.db.list():\n",
    "    print(\"La BD no existe y se va a crear...\")\n",
    "    client.create_database(ADMIN_PASSWORD, DATABASE)\n",
    "    print(\"Base de datos creada\")\n",
    "    # Procedemos a listar todos los modulos instalados por defecto\n",
    "    installed_modules = client.modules(installed=True)\n",
    "    print(\"Lista de modulos instalados:\")\n",
    "    for module in installed_modules['installed']:\n",
    "        print(module)\n",
    "    # Se comprueba si esta presente el modulo CRM\n",
    "    print(\"Comprobando modulo CRM...\")\n",
    "    modules = client.modules('crm', installed=False)\n",
    "    if 'crm' in modules['uninstalled']:\n",
    "        # Si no esta instalado se instala\n",
    "        client.install('crm')\n",
    "        print(\"Modulo CRM instalado.\")\n",
    "    else:\n",
    "        # El modulo ya esta instalado\n",
    "        print(\"El modulo CRM ya estaba instalado...\")\n",
    "        "
   ]
  },
  {
   "cell_type": "markdown",
   "metadata": {},
   "source": [
    "### Tarea 4 - Explorar un modelo\n",
    "\n",
    "Demuesta que sabes listar todos los campos  del modelo `res.users`, incluyendo nombre, tipo y etiqueta"
   ]
  },
  {
   "cell_type": "code",
   "execution_count": 60,
   "metadata": {
    "collapsed": false
   },
   "outputs": [
    {
     "name": "stdout",
     "output_type": "stream",
     "text": [
      "Usuario: Administrator, Tipo: contact, Etiqueta (alias): companyfirebird@gmail.com\n",
      "Usuario: Raul Piraces Alastuey, Tipo: contact, Etiqueta (alias): Inactive Alias\n",
      "Usuario: Luis Jesus Pellicer, Tipo: contact, Etiqueta (alias): Inactive Alias\n",
      "Usuario: Howard Harrison, Tipo: contact, Etiqueta (alias): Inactive Alias\n",
      "Usuario: Michelle Hernandez, Tipo: contact, Etiqueta (alias): Inactive Alias\n",
      "Usuario: Steve Carter, Tipo: contact, Etiqueta (alias): Inactive Alias\n",
      "Usuario: Andrea Hudson, Tipo: contact, Etiqueta (alias): Inactive Alias\n"
     ]
    }
   ],
   "source": [
    "import erppeek\n",
    "from __future__ import print_function\n",
    "\n",
    "SERVER = 'http://localhost:8069'\n",
    "DATABASE = 'desarrollo'\n",
    "USERNAME = 'companyfirebird@gmail.com'\n",
    "PASSWORD = 'platano-1'\n",
    "\n",
    "client = erppeek.Client(SERVER, DATABASE, USERNAME, PASSWORD)\n",
    "\n",
    "proxy = client.model('res.users')\n",
    "users = proxy.browse([])\n",
    "\n",
    "for user in users:\n",
    "    a = \"Usuario: {user.name}, Tipo: {user.type}, Etiqueta (alias): {user.alias_id}\".format(user=user)\n",
    "    print(a)"
   ]
  },
  {
   "cell_type": "markdown",
   "metadata": {
    "collapsed": true
   },
   "source": [
    "###Tarea 5 - Poblar un modelo\n",
    "\n",
    "Crea el código neccesario para migrar los usuarios de una base de datos a otra base de datos. No es necesario migrar todos los campos. Basta con una prueba de concepto. "
   ]
  },
  {
   "cell_type": "code",
   "execution_count": 61,
   "metadata": {
    "collapsed": false
   },
   "outputs": [
    {
     "name": "stdout",
     "output_type": "stream",
     "text": [
      "Migrando usuarios entre origen y destino...\n",
      "Usuario: Administrator. Creado correctamente\n",
      "Usuario: Raul Piraces Alastuey. Creado correctamente\n",
      "Usuario: Luis Jesus Pellicer. Creado correctamente\n",
      "Usuario: Howard Harrison. Creado correctamente\n",
      "Usuario: Michelle Hernandez. Creado correctamente\n",
      "Usuario: Steve Carter. Creado correctamente\n",
      "Usuario: Andrea Hudson. Creado correctamente\n",
      "Se han migrado los usuarios correctamente.\n"
     ]
    }
   ],
   "source": [
    "import erppeek\n",
    "from __future__ import print_function\n",
    "\n",
    "SERVER = 'http://localhost:8069'\n",
    "DATABASE1 = 'desarrollo'\n",
    "DATABASE2 = 'sandbox'\n",
    "USERNAME1 = 'companyfirebird@gmail.com'\n",
    "PASSWORD1 = 'platano-1'\n",
    "USERNAME2 = 'admin'\n",
    "PASSWORD2 = 'admin'\n",
    "\n",
    "origen = erppeek.Client(SERVER, DATABASE1, USERNAME1, PASSWORD1)\n",
    "destino = erppeek.Client(SERVER, DATABASE2, USERNAME2, PASSWORD2)\n",
    "\n",
    "proxy1 = origen.model('res.users')\n",
    "proxy2 = destino.model('res.users')\n",
    "users = proxy1.browse([])\n",
    "\n",
    "print(\"Migrando usuarios entre origen y destino...\")\n",
    "for user in users:\n",
    "    login = user.login\n",
    "    name = user.name\n",
    "    password = user.password\n",
    "    proxy2.create({'login': login, 'name': name, 'password' : password})\n",
    "    print(\"Usuario: \" + name + \". Creado correctamente\")\n",
    "print(\"Se han migrado los usuarios correctamente.\")"
   ]
  }
 ],
 "metadata": {
  "kernelspec": {
   "display_name": "Python 2",
   "language": "python",
   "name": "python2"
  },
  "language_info": {
   "codemirror_mode": {
    "name": "ipython",
    "version": 2
   },
   "file_extension": ".py",
   "mimetype": "text/x-python",
   "name": "python",
   "nbconvert_exporter": "python",
   "pygments_lexer": "ipython2",
   "version": "2.7.8"
  }
 },
 "nbformat": 4,
 "nbformat_minor": 0
}
